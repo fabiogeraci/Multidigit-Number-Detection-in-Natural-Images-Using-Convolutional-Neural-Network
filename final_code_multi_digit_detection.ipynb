{
 "cells": [
  {
   "cell_type": "markdown",
   "metadata": {},
   "source": [
    "## libraries"
   ]
  },
  {
   "cell_type": "code",
   "execution_count": 1,
   "metadata": {},
   "outputs": [],
   "source": [
    "# import libraries\n",
    "import matplotlib.pyplot as plt\n",
    "import numpy as np\n",
    "import math"
   ]
  },
  {
   "cell_type": "markdown",
   "metadata": {},
   "source": [
    "## set some parameters"
   ]
  },
  {
   "cell_type": "code",
   "execution_count": 2,
   "metadata": {},
   "outputs": [],
   "source": [
    "learning_rate = 1*1e-5\n",
    "train_batch_size = 128\n",
    "test_batch_size = 128\n",
    "print_loss_aft_iter_in_optimize = 10000\n",
    "prob_2_dig_sel = 10\n",
    "save_model_after_iter = 20000\n",
    "max_seq = 5  ####### Maximum number of digits in the dataset\n",
    "percentage_training_data = 0.75\n",
    "\n",
    "keep_prob_dropout_dig_1 = .1\n",
    "keep_prob_dropout_dig_2 = .1\n",
    "keep_prob_dropout_dig_3 = .1\n",
    "keep_prob_dropout_dig_4 = .1\n",
    "keep_prob_dropout_dig_5 = .1\n",
    "\n",
    "data_set_size = 20000"
   ]
  },
  {
   "cell_type": "markdown",
   "metadata": {},
   "source": [
    "# Support Functions"
   ]
  },
  {
   "cell_type": "code",
   "execution_count": 3,
   "metadata": {},
   "outputs": [],
   "source": [
    "# function for one hot encoding\n",
    "def label_generator(class_numbers, num_classes_per_digit, max_digit = None):     \n",
    "        \n",
    "    if max_digit is None:\n",
    "        temp = np.max(class_numbers)\n",
    "        #print (temp)\n",
    "        max_digit = int(math.log10(temp)) + 1 \n",
    "        #print (max_digit)\n",
    "        \n",
    "    labels = np.zeros((len(class_numbers), num_classes_per_digit*max_digit), dtype=np.float)\n",
    "    for i in range(len(class_numbers)):\n",
    "        dig = len(str(class_numbers[i]))\n",
    "        #print (dig)\n",
    "        for j in range(max_digit):\n",
    "            \n",
    "            #print (temp)\n",
    "            \n",
    "            #print (kk)\n",
    "            if j < dig:\n",
    "                temp = np.array(class_numbers[i])\n",
    "                kk = int(str(temp)[j])\n",
    "                labels[i][j*num_classes_per_digit:(j+1)*num_classes_per_digit] = np.eye(num_classes_per_digit, dtype=float)[kk]\n",
    "            else:\n",
    "                labels[i][(j+1)*num_classes_per_digit -1] = 1.0\n",
    "                \n",
    "        \n",
    "                \n",
    "    return labels"
   ]
  },
  {
   "cell_type": "code",
   "execution_count": 4,
   "metadata": {},
   "outputs": [],
   "source": [
    "def class_generator_from_labels(labels, num_classes, max_digit = None):     \n",
    "        \n",
    "    if max_digit is None:        \n",
    "        max_digit = len(labels[0])/10\n",
    "        \n",
    "    class_numbers = np.zeros((1, len(labels)), dtype=np.int)\n",
    "    for i in range(len(labels)):\n",
    "        temp = 0;        \n",
    "        for j in range(max_digit):\n",
    "            temp_1 = np.argmax(labels[i][j*num_classes:(j+1)*num_classes])\n",
    "            if temp_1 != 0:\n",
    "                temp = temp*10 + temp_1\n",
    "        class_numbers[0][i] = temp;\n",
    "            \n",
    "    return class_numbers"
   ]
  },
  {
   "cell_type": "code",
   "execution_count": 5,
   "metadata": {},
   "outputs": [],
   "source": [
    "def class_generator_from_tf_labels(labels, num_classes, max_digit = None):     \n",
    "        \n",
    "    if max_digit is None:        \n",
    "        max_digit = len(labels[0])/10\n",
    "        \n",
    "    class_numbers = np.zeros((1, len(labels)), dtype=np.int)\n",
    "    for i in range(len(labels)):\n",
    "        temp = 0;        \n",
    "        for j in range(max_digit):\n",
    "            temp_1 = np.argmax(labels[i][j*num_classes:(j+1)*num_classes])\n",
    "            if temp_1 != 0:\n",
    "                temp = temp*10 + temp_1\n",
    "        class_numbers[0][i] = temp;\n",
    "            \n",
    "    return class_numbers"
   ]
  },
  {
   "cell_type": "markdown",
   "metadata": {},
   "source": [
    "Check for support functions"
   ]
  },
  {
   "cell_type": "code",
   "execution_count": 6,
   "metadata": {},
   "outputs": [
    {
     "data": {
      "text/plain": [
       "array([[ 0.,  0.,  1.,  0.,  0.,  0.,  0.,  0.,  0.,  0.,  0.,  0.,  0.,\n",
       "         0.,  0.,  0.,  0.,  0.,  0.,  0.,  0.,  1.,  0.,  0.,  0.,  0.,\n",
       "         0.,  0.,  0.,  0.,  0.,  0.,  1.],\n",
       "       [ 0.,  0.,  0.,  1.,  0.,  0.,  0.,  0.,  0.,  0.,  0.,  0.,  0.,\n",
       "         0.,  0.,  1.,  0.,  0.,  0.,  0.,  0.,  0.,  0.,  0.,  0.,  0.,\n",
       "         0.,  0.,  0.,  0.,  0.,  0.,  1.],\n",
       "       [ 0.,  1.,  0.,  0.,  0.,  0.,  0.,  0.,  0.,  0.,  0.,  1.,  0.,\n",
       "         0.,  0.,  0.,  0.,  0.,  0.,  0.,  0.,  0.,  0.,  0.,  0.,  0.,\n",
       "         0.,  1.,  0.,  0.,  0.,  0.,  0.]])"
      ]
     },
     "execution_count": 6,
     "metadata": {},
     "output_type": "execute_result"
    }
   ],
   "source": [
    "t = label_generator([2,34,105], 11, max_digit = 3)\n",
    "t\n"
   ]
  },
  {
   "cell_type": "markdown",
   "metadata": {},
   "source": [
    "## load input labels for images\n",
    "Labels: First 11 class for 1 digit and 11-22 class for second digit and so on."
   ]
  },
  {
   "cell_type": "code",
   "execution_count": 7,
   "metadata": {},
   "outputs": [],
   "source": [
    "# One digit labels\n",
    "labels = []\n",
    "with open('/media/rk/Data/Ruchi/Couses/MLSP/data/train/one_digit_label.txt') as f:\n",
    "    \n",
    "    counter = 0\n",
    "    for line in f:    \n",
    "        if counter < data_set_size:\n",
    "            labels.append(int(line))\n",
    "            counter = counter +1\n",
    "\n",
    "# Two digit labels\n",
    "with open('/media/rk/Data/Ruchi/Couses/MLSP/data/train/two_digit_label.txt') as f:  \n",
    "    counter = 0\n",
    "    for line in f:       \n",
    "        if counter < data_set_size:\n",
    "            labels.append(int(line))\n",
    "            counter = counter + 1\n",
    "\n",
    "# Three digit labels\n",
    "with open('/media/rk/Data/Ruchi/Couses/MLSP/data/train/three_digit_label.txt') as f:  \n",
    "    counter = 0\n",
    "    for line in f:       \n",
    "        if counter < data_set_size:\n",
    "            labels.append(int(line))\n",
    "            counter = counter + 1            \n",
    "            \n",
    "# Four digit labels\n",
    "with open('/media/rk/Data/Ruchi/Couses/MLSP/data/train/four_digit_label.txt') as f:  \n",
    "    counter = 0\n",
    "    for line in f:       \n",
    "        if counter < data_set_size:\n",
    "            labels.append(int(line))\n",
    "            counter = counter + 1\n",
    "# Five digit labels\n",
    "with open('/media/rk/Data/Ruchi/Couses/MLSP/data/train/five_digit_label.txt') as f:  \n",
    "    counter = 0\n",
    "    for line in f:       \n",
    "        if counter < data_set_size:\n",
    "            labels.append(int(line))\n",
    "            counter = counter + 1\n",
    "            \n",
    "# one digit labels         \n",
    "with open('/media/rk/Data/Ruchi/Couses/MLSP/data/train/one_digit_label_test.txt') as f:\n",
    "    \n",
    "    counter = 0\n",
    "    for line in f:    \n",
    "        if counter < data_set_size:\n",
    "            labels.append(int(line))\n",
    "            counter = counter +1\n",
    "            \n",
    "# two digit labels            \n",
    "with open('/media/rk/Data/Ruchi/Couses/MLSP/data/train/two_digit_label_test.txt') as f:\n",
    "    \n",
    "    counter = 0\n",
    "    for line in f:    \n",
    "        if counter < data_set_size:\n",
    "            labels.append(int(line))\n",
    "            counter = counter +1\n",
    "\n",
    "# three digit labels            \n",
    "with open('/media/rk/Data/Ruchi/Couses/MLSP/data/train/three_digit_label_test.txt') as f:\n",
    "    \n",
    "    counter = 0\n",
    "    for line in f:    \n",
    "        if counter < data_set_size:\n",
    "            labels.append(int(line))\n",
    "            counter = counter +1\n",
    "            \n",
    "# four digit labels            \n",
    "with open('/media/rk/Data/Ruchi/Couses/MLSP/data/train/four_digit_label_test.txt') as f:\n",
    "    \n",
    "    counter = 0\n",
    "    for line in f:    \n",
    "        if counter < data_set_size:\n",
    "            labels.append(int(line))\n",
    "            counter = counter +1\n",
    "            \n",
    "# five digi labels\n",
    "with open('/media/rk/Data/Ruchi/Couses/MLSP/data/train/five_digit_label_test.txt') as f:\n",
    "    \n",
    "    counter = 0\n",
    "    for line in f:    \n",
    "        if counter < data_set_size:\n",
    "            labels.append(int(line))\n",
    "            counter = counter +1\n",
    "\n",
    "            \n",
    "# Extract train and test Data using random shuffling\n",
    "num_training_data = int (len(labels)*percentage_training_data)\n",
    "idx = np.arange(0 , len(labels))\n",
    "np.random.shuffle(idx)\n",
    "\n",
    "train_labels = [labels[i] for i in idx[0:num_training_data]]\n",
    "test_labels =  [labels[i] for i in idx[num_training_data:]]\n",
    "\n",
    "\n",
    "#test_labels = train_labels[num_training_data:]\n",
    "#train_labels= train_labels[0:num_training_data]"
   ]
  },
  {
   "cell_type": "markdown",
   "metadata": {},
   "source": [
    " ## Convert labels to one hot encoding"
   ]
  },
  {
   "cell_type": "code",
   "execution_count": 8,
   "metadata": {},
   "outputs": [],
   "source": [
    "one_hot_en_labels = label_generator(train_labels, 11, max_digit = max_seq)################ change for length of sequence\n",
    "one_hot_en_labels_test = label_generator(test_labels, 11, max_digit = max_seq)################ change for length of sequence"
   ]
  },
  {
   "cell_type": "markdown",
   "metadata": {},
   "source": [
    "## load input Images"
   ]
  },
  {
   "cell_type": "code",
   "execution_count": 9,
   "metadata": {},
   "outputs": [],
   "source": [
    "from PIL import Image\n",
    "import numpy as np\n",
    "from skimage import color\n",
    "from skimage import io\n",
    "\n",
    "def load_image( infilename ):\n",
    "    img = io.imread(infilename, as_grey=True)\n",
    "    data = np.asarray(img)\n",
    "    return data"
   ]
  },
  {
   "cell_type": "code",
   "execution_count": 10,
   "metadata": {},
   "outputs": [
    {
     "name": "stdout",
     "output_type": "stream",
     "text": [
      "46469\n"
     ]
    }
   ],
   "source": [
    "import os\n",
    "import re\n",
    "all_data = []\n",
    "\n",
    "# One Digit images\n",
    "path1 = '/media/rk/Data/Ruchi/Couses/MLSP/data/train/1_digit_54/'\n",
    "listing = os.listdir(path1) \n",
    "listing = sorted(listing, key=lambda x: (int(re.sub('\\D','',x)),x))\n",
    "for file in listing:\n",
    "    img_data = load_image(path1 + file)\n",
    "    flat_list = [item for sublist in img_data for item in sublist]\n",
    "    all_data.append(flat_list)\n",
    "\n",
    "\n",
    "# Two digit images\n",
    "path1 = '/media/rk/Data/Ruchi/Couses/MLSP/data/train/2_digit/'\n",
    "listing = os.listdir(path1) \n",
    "listing = sorted(listing, key=lambda x: (int(re.sub('\\D','',x)),x))\n",
    "for file in listing:\n",
    "    img_data = load_image(path1 + file)\n",
    "    flat_list = [item for sublist in img_data for item in sublist]\n",
    "    all_data.append(flat_list)\n",
    "    \n",
    "      \n",
    "# Three digit images\n",
    "path1 = '/media/rk/Data/Ruchi/Couses/MLSP/data/train/3_digit_54/'\n",
    "listing = os.listdir(path1) \n",
    "listing = sorted(listing, key=lambda x: (int(re.sub('\\D','',x)),x))\n",
    "for file in listing:\n",
    "    img_data = load_image(path1 + file)\n",
    "    flat_list = [item for sublist in img_data for item in sublist]\n",
    "    all_data.append(flat_list)\n",
    "    \n",
    "# Four digit images\n",
    "path1 = '/media/rk/Data/Ruchi/Couses/MLSP/data/train/4_digit_54/'\n",
    "listing = os.listdir(path1) \n",
    "listing = sorted(listing, key=lambda x: (int(re.sub('\\D','',x)),x))\n",
    "for file in listing:\n",
    "    img_data = load_image(path1 + file)\n",
    "    flat_list = [item for sublist in img_data for item in sublist]\n",
    "    all_data.append(flat_list)\n",
    "    \n",
    "# Five digit images\n",
    "path1 = '/media/rk/Data/Ruchi/Couses/MLSP/data/train/5_digit_54/'\n",
    "listing = os.listdir(path1) \n",
    "listing = sorted(listing, key=lambda x: (int(re.sub('\\D','',x)),x))\n",
    "for file in listing:\n",
    "    img_data = load_image(path1 + file)\n",
    "    flat_list = [item for sublist in img_data for item in sublist]\n",
    "    all_data.append(flat_list)\n",
    "       \n",
    "# One Digit images\n",
    "path1 = '/media/rk/Data/Ruchi/Couses/MLSP/data/train/1_digit_test/'\n",
    "listing = os.listdir(path1) \n",
    "listing = sorted(listing, key=lambda x: (int(re.sub('\\D','',x)),x))\n",
    "for file in listing:\n",
    "    img_data = load_image(path1 + file)\n",
    "    flat_list = [item for sublist in img_data for item in sublist]\n",
    "    all_data.append(flat_list)\n",
    "\n",
    "# One Digit images\n",
    "path1 = '/media/rk/Data/Ruchi/Couses/MLSP/data/train/2_digit_test/'\n",
    "listing = os.listdir(path1) \n",
    "listing = sorted(listing, key=lambda x: (int(re.sub('\\D','',x)),x))\n",
    "for file in listing:\n",
    "    img_data = load_image(path1 + file)\n",
    "    flat_list = [item for sublist in img_data for item in sublist]\n",
    "    all_data.append(flat_list)\n",
    "\n",
    "# One Digit images\n",
    "path1 = '/media/rk/Data/Ruchi/Couses/MLSP/data/train/3_digit_test/'\n",
    "listing = os.listdir(path1) \n",
    "listing = sorted(listing, key=lambda x: (int(re.sub('\\D','',x)),x))\n",
    "for file in listing:\n",
    "    img_data = load_image(path1 + file)\n",
    "    flat_list = [item for sublist in img_data for item in sublist]\n",
    "    all_data.append(flat_list)\n",
    "    \n",
    "# One Digit images\n",
    "path1 = '/media/rk/Data/Ruchi/Couses/MLSP/data/train/4_digit_test/'\n",
    "listing = os.listdir(path1) \n",
    "listing = sorted(listing, key=lambda x: (int(re.sub('\\D','',x)),x))\n",
    "for file in listing:\n",
    "    img_data = load_image(path1 + file)\n",
    "    flat_list = [item for sublist in img_data for item in sublist]\n",
    "    all_data.append(flat_list)\n",
    "\n",
    "# One Digit images\n",
    "path1 = '/media/rk/Data/Ruchi/Couses/MLSP/data/train/5_digit_test/'\n",
    "listing = os.listdir(path1) \n",
    "listing = sorted(listing, key=lambda x: (int(re.sub('\\D','',x)),x))\n",
    "for file in listing:\n",
    "    img_data = load_image(path1 + file)\n",
    "    flat_list = [item for sublist in img_data for item in sublist]\n",
    "    all_data.append(flat_list)\n",
    "\n",
    "    \n",
    "print (len(all_data))\n",
    "\n",
    "# Extract Test and Train Images\n",
    "train_images = [all_data[i] for i in idx[0:num_training_data]]\n",
    "test_images  =  [all_data[i] for i in idx[num_training_data:]]\n",
    "\n",
    "train_images = np.asarray(train_images)\n",
    "test_images  =  np.asarray(test_images)"
   ]
  },
  {
   "cell_type": "code",
   "execution_count": 11,
   "metadata": {
    "scrolled": true
   },
   "outputs": [
    {
     "name": "stdout",
     "output_type": "stream",
     "text": [
      "34851\n",
      "11618\n"
     ]
    }
   ],
   "source": [
    "print (len(train_images))\n",
    "print(len(test_images))"
   ]
  },
  {
   "cell_type": "markdown",
   "metadata": {},
   "source": [
    "## Data dimension"
   ]
  },
  {
   "cell_type": "code",
   "execution_count": 12,
   "metadata": {},
   "outputs": [],
   "source": [
    "# We know that MNIST images are 28 pixels in each dimension.\n",
    "img_size = 54 #28\n",
    "\n",
    "# Images are stored in one-dimensional arrays of this length.\n",
    "img_size_flat = img_size * img_size\n",
    "\n",
    "# Tuple with height and width of images used to reshape arrays.\n",
    "img_shape = (img_size, img_size)\n",
    "\n",
    "# Number of colour channels for the images: 1 channel for gray-scale.\n",
    "num_channels = 1\n",
    "\n",
    "# Number of classes, one class for each of 10 digits.\n",
    "num_classes_per_digit = 11\n",
    "num_classes = num_classes_per_digit*max_seq "
   ]
  },
  {
   "cell_type": "markdown",
   "metadata": {},
   "source": [
    "## Creating new variables for CNN"
   ]
  },
  {
   "cell_type": "code",
   "execution_count": 13,
   "metadata": {},
   "outputs": [],
   "source": [
    "import tensorflow as tf\n",
    "x = tf.placeholder(tf.float32, shape=[None, img_size_flat], name='x')"
   ]
  },
  {
   "cell_type": "code",
   "execution_count": 14,
   "metadata": {},
   "outputs": [],
   "source": [
    "x_image = tf.reshape(x, [-1, img_size, img_size, num_channels])"
   ]
  },
  {
   "cell_type": "code",
   "execution_count": 15,
   "metadata": {},
   "outputs": [],
   "source": [
    "y_true = tf.placeholder(tf.float32, shape=[None, num_classes], name='y_true')"
   ]
  },
  {
   "cell_type": "code",
   "execution_count": 16,
   "metadata": {},
   "outputs": [],
   "source": [
    "y_true_1 = tf.placeholder(tf.float32, shape=[None, num_classes_per_digit], name='y_true_1')\n",
    "y_true_2 = tf.placeholder(tf.float32, shape=[None, num_classes_per_digit], name='y_true_2')\n",
    "y_true_3 = tf.placeholder(tf.float32, shape=[None, num_classes_per_digit], name='y_true_3')\n",
    "y_true_4 = tf.placeholder(tf.float32, shape=[None, num_classes_per_digit], name='y_true_4')\n",
    "y_true_5 = tf.placeholder(tf.float32, shape=[None, num_classes_per_digit], name='y_true_5')"
   ]
  },
  {
   "cell_type": "code",
   "execution_count": 17,
   "metadata": {},
   "outputs": [],
   "source": [
    "y_true_cls = tf.placeholder(tf.float32, shape=[1,None], name='y_true_cls')  #### changed this line"
   ]
  },
  {
   "cell_type": "code",
   "execution_count": 18,
   "metadata": {},
   "outputs": [],
   "source": [
    "net = x_image"
   ]
  },
  {
   "cell_type": "markdown",
   "metadata": {},
   "source": [
    "## 3 convolution layers"
   ]
  },
  {
   "cell_type": "code",
   "execution_count": 19,
   "metadata": {},
   "outputs": [],
   "source": [
    "net = tf.layers.conv2d(inputs=net, name='layer_conv1', padding='same',\n",
    "                       filters=16, kernel_size=5, activation=tf.nn.relu)\n",
    "layer_conv1 = net\n",
    "net = tf.layers.max_pooling2d(inputs=net, pool_size=2, strides=2)"
   ]
  },
  {
   "cell_type": "code",
   "execution_count": 20,
   "metadata": {},
   "outputs": [],
   "source": [
    "net = tf.layers.conv2d(inputs=net, name='layer_conv2', padding='same',\n",
    "                       filters=36, kernel_size=5, activation=tf.nn.relu)\n",
    "layer_conv2 = net\n",
    "net = tf.layers.max_pooling2d(inputs=net, pool_size=2, strides=2)"
   ]
  },
  {
   "cell_type": "code",
   "execution_count": 21,
   "metadata": {},
   "outputs": [],
   "source": [
    "net = tf.layers.conv2d(inputs=net, name='layer_conv3', padding='same',\n",
    "                       filters=72, kernel_size=5, activation=tf.nn.relu)\n",
    "layer_conv3 = net\n",
    "net = tf.layers.max_pooling2d(inputs=net, pool_size=2, strides=2)"
   ]
  },
  {
   "cell_type": "code",
   "execution_count": 22,
   "metadata": {},
   "outputs": [
    {
     "data": {
      "text/plain": [
       "<tf.Tensor 'max_pooling2d_3/MaxPool:0' shape=(?, 6, 6, 72) dtype=float32>"
      ]
     },
     "execution_count": 22,
     "metadata": {},
     "output_type": "execute_result"
    }
   ],
   "source": [
    "net"
   ]
  },
  {
   "cell_type": "code",
   "execution_count": 23,
   "metadata": {},
   "outputs": [],
   "source": [
    "flat_layer = tf.contrib.layers.flatten(net)"
   ]
  },
  {
   "cell_type": "code",
   "execution_count": 24,
   "metadata": {},
   "outputs": [
    {
     "data": {
      "text/plain": [
       "<tf.Tensor 'Flatten/flatten/Reshape:0' shape=(?, 2592) dtype=float32>"
      ]
     },
     "execution_count": 24,
     "metadata": {},
     "output_type": "execute_result"
    }
   ],
   "source": [
    "flat_layer"
   ]
  },
  {
   "cell_type": "markdown",
   "metadata": {},
   "source": [
    "## fully connected layers for 5 digits"
   ]
  },
  {
   "cell_type": "code",
   "execution_count": 25,
   "metadata": {},
   "outputs": [],
   "source": [
    "# Fully connected layer for digit 1\n",
    "net_digit_1 = tf.layers.dense(inputs=flat_layer, name='layer_fc1_digit_1',\n",
    "                      units=128, activation=tf.nn.relu)\n",
    "net_digit_1 = tf.layers.dropout(inputs=net_digit_1, rate = keep_prob_dropout_dig_1)\n",
    "net_digit_1 = tf.layers.dense(inputs=net_digit_1, name='layer_fc_out_digit_1',\n",
    "                      units=num_classes_per_digit, activation=None)"
   ]
  },
  {
   "cell_type": "code",
   "execution_count": 26,
   "metadata": {},
   "outputs": [],
   "source": [
    "# Fully connected layer for digit 2\n",
    "net_digit_2 = tf.layers.dense(inputs=flat_layer, name='layer_fc1_digit_2',\n",
    "                      units=128, activation=tf.nn.relu)\n",
    "net_digit_2 = tf.layers.dropout(inputs=net_digit_2, rate = keep_prob_dropout_dig_2)\n",
    "net_digit_2 = tf.layers.dense(inputs=net_digit_2, name='layer_fc_out_digit_2',\n",
    "                      units=num_classes_per_digit, activation=None)"
   ]
  },
  {
   "cell_type": "code",
   "execution_count": 27,
   "metadata": {},
   "outputs": [],
   "source": [
    "# Fully connected layer for digit 3\n",
    "net_digit_3 = tf.layers.dense(inputs=flat_layer, name='layer_fc1_digit_3',\n",
    "                      units=128, activation=tf.nn.relu)\n",
    "net_digit_3 = tf.layers.dropout(inputs=net_digit_3, rate = keep_prob_dropout_dig_3)\n",
    "net_digit_3 = tf.layers.dense(inputs=net_digit_3, name='layer_fc_out_digit_3',\n",
    "                      units=num_classes_per_digit, activation=None)"
   ]
  },
  {
   "cell_type": "code",
   "execution_count": 28,
   "metadata": {},
   "outputs": [],
   "source": [
    "# Fully connected layer for digit 4\n",
    "net_digit_4 = tf.layers.dense(inputs=flat_layer, name='layer_fc1_digit_4',\n",
    "                      units=128, activation=tf.nn.relu)\n",
    "net_digit_4 = tf.layers.dropout(inputs=net_digit_4, rate = keep_prob_dropout_dig_4)\n",
    "net_digit_4 = tf.layers.dense(inputs=net_digit_4, name='layer_fc_out_digit_4',\n",
    "                      units=num_classes_per_digit, activation=None)"
   ]
  },
  {
   "cell_type": "code",
   "execution_count": 29,
   "metadata": {},
   "outputs": [],
   "source": [
    "# Fully connected layer for digit 5\n",
    "net_digit_5 = tf.layers.dense(inputs=flat_layer, name='layer_fc1_digit_5',\n",
    "                      units=128, activation=tf.nn.relu)\n",
    "net_digit_5 = tf.layers.dropout(inputs=net_digit_5, rate = keep_prob_dropout_dig_5)\n",
    "net_digit_5 = tf.layers.dense(inputs=net_digit_5, name='layer_fc_out_digit_5',\n",
    "                      units=num_classes_per_digit, activation=None)"
   ]
  },
  {
   "cell_type": "code",
   "execution_count": 30,
   "metadata": {},
   "outputs": [
    {
     "data": {
      "text/plain": [
       "<tf.Tensor 'layer_fc_out_digit_2/BiasAdd:0' shape=(?, 11) dtype=float32>"
      ]
     },
     "execution_count": 30,
     "metadata": {},
     "output_type": "execute_result"
    }
   ],
   "source": [
    "net_digit_2"
   ]
  },
  {
   "cell_type": "code",
   "execution_count": 31,
   "metadata": {},
   "outputs": [],
   "source": [
    "logits = tf.concat([net_digit_1, net_digit_2, net_digit_3, net_digit_4,net_digit_5], 1)"
   ]
  },
  {
   "cell_type": "markdown",
   "metadata": {},
   "source": [
    "## Softmax layers"
   ]
  },
  {
   "cell_type": "code",
   "execution_count": 32,
   "metadata": {},
   "outputs": [],
   "source": [
    "logits_1 = net_digit_1\n",
    "logits_1_soft = tf.nn.softmax(logits=logits_1)\n",
    "\n",
    "logits_2 = net_digit_2\n",
    "logits_2_soft = tf.nn.softmax(logits=logits_2)\n",
    "\n",
    "logits_3 = net_digit_3\n",
    "logits_3_soft = tf.nn.softmax(logits=logits_3)\n",
    "\n",
    "logits_4 = net_digit_4\n",
    "logits_4_soft = tf.nn.softmax(logits=logits_4)\n",
    "\n",
    "logits_5 = net_digit_5\n",
    "logits_5_soft = tf.nn.softmax(logits=logits_5)\n",
    "\n",
    "logits_soft  = tf.concat([logits_1_soft, logits_2_soft, logits_3_soft, logits_4_soft, logits_5_soft], 1)"
   ]
  },
  {
   "cell_type": "code",
   "execution_count": 33,
   "metadata": {},
   "outputs": [],
   "source": [
    "# defining Prob for comparison\n",
    "prob_2_dig_sel_tensor = tf.placeholder(tf.int64, shape=[None], name = 'prob_2_dig_sel_tensor')\n",
    "\n",
    "# functions\n",
    "def f2(): return (tf.where(condition_3, y_pred_two, f3()))\n",
    "def f3(): return (tf.where(condition_4, y_pred_three, f4()))\n",
    "def f4(): return (tf.where(condition_5, y_pred_four, y_pred_five))                "
   ]
  },
  {
   "cell_type": "code",
   "execution_count": 34,
   "metadata": {},
   "outputs": [
    {
     "name": "stdout",
     "output_type": "stream",
     "text": [
      "WARNING:tensorflow:From <ipython-input-34-049f654fd31d>:3: calling argmax (from tensorflow.python.ops.math_ops) with dimension is deprecated and will be removed in a future version.\n",
      "Instructions for updating:\n",
      "Use the `axis` argument instead\n"
     ]
    }
   ],
   "source": [
    "# If softmax give a number greater than .5 then assign it, otherwise don't assign it\n",
    "\n",
    "y_pred_1 = tf.argmax(logits_1_soft, dimension =1)\n",
    "y_pred_2 = tf.argmax(logits_2_soft, dimension =1)\n",
    "y_pred_3 = tf.argmax(logits_3_soft, dimension =1)\n",
    "y_pred_4 = tf.argmax(logits_4_soft, dimension =1)\n",
    "y_pred_5 = tf.argmax(logits_5_soft, dimension =1)\n",
    "\n",
    "y_pred_two   = tf.add(tf.multiply(y_pred_1,10, name=None), y_pred_2, name=None)\n",
    "y_pred_three = tf.add(tf.multiply(y_pred_two,10, name=None), y_pred_3, name=None)\n",
    "y_pred_four = tf.add(tf.multiply(y_pred_three,10, name=None), y_pred_4, name=None)\n",
    "y_pred_five = tf.add(tf.multiply(y_pred_four,10, name=None), y_pred_5, name=None)\n",
    "\n",
    "condition_2 = tf.equal(y_pred_2,prob_2_dig_sel_tensor)\n",
    "condition_3 = tf.equal(y_pred_3, prob_2_dig_sel_tensor)\n",
    "condition_4 = tf.equal(y_pred_4, prob_2_dig_sel_tensor)\n",
    "condition_5 = tf.equal(y_pred_5, prob_2_dig_sel_tensor)\n",
    "\n",
    "y_pred = tf.where(condition_2, y_pred_1, f2())"
   ]
  },
  {
   "cell_type": "markdown",
   "metadata": {},
   "source": [
    "## loss function to minimize"
   ]
  },
  {
   "cell_type": "code",
   "execution_count": 35,
   "metadata": {},
   "outputs": [],
   "source": [
    "cross_entropy = tf.nn.softmax_cross_entropy_with_logits(labels=y_true_1, logits=logits_1) + \\\n",
    "                tf.nn.softmax_cross_entropy_with_logits(labels=y_true_2, logits=logits_2) + \\\n",
    "                tf.nn.softmax_cross_entropy_with_logits(labels=y_true_3, logits=logits_3) + \\\n",
    "                tf.nn.softmax_cross_entropy_with_logits(labels=y_true_4, logits=logits_4) + \\\n",
    "                tf.nn.softmax_cross_entropy_with_logits(labels=y_true_5, logits=logits_5) "
   ]
  },
  {
   "cell_type": "code",
   "execution_count": 36,
   "metadata": {},
   "outputs": [],
   "source": [
    "loss = tf.reduce_mean(cross_entropy)"
   ]
  },
  {
   "cell_type": "code",
   "execution_count": 37,
   "metadata": {},
   "outputs": [],
   "source": [
    "optimizer = tf.train.AdamOptimizer(learning_rate=learning_rate).minimize(loss)"
   ]
  },
  {
   "cell_type": "markdown",
   "metadata": {},
   "source": [
    "## getiing weights"
   ]
  },
  {
   "cell_type": "code",
   "execution_count": 38,
   "metadata": {},
   "outputs": [],
   "source": [
    "def get_weights_variable(layer_name):\n",
    "    # Retrieve an existing variable named 'kernel' in the scope\n",
    "    # with the given layer_name.\n",
    "    # This is awkward because the TensorFlow function was\n",
    "    # really intended for another purpose.\n",
    "\n",
    "    with tf.variable_scope(layer_name, reuse=True):\n",
    "        variable = tf.get_variable('kernel')\n",
    "\n",
    "    return variable"
   ]
  },
  {
   "cell_type": "code",
   "execution_count": 39,
   "metadata": {},
   "outputs": [],
   "source": [
    "weights_conv1 = get_weights_variable(layer_name='layer_conv1')\n",
    "weights_conv2 = get_weights_variable(layer_name='layer_conv2')"
   ]
  },
  {
   "cell_type": "markdown",
   "metadata": {},
   "source": [
    "## helper function for next batch "
   ]
  },
  {
   "cell_type": "code",
   "execution_count": 40,
   "metadata": {},
   "outputs": [],
   "source": [
    "def next_batch(num, data, labels):\n",
    "    '''\n",
    "    Return a total of `num` random samples and labels. \n",
    "    '''\n",
    "    idx = np.arange(0 , len(data))\n",
    "    np.random.shuffle(idx)\n",
    "    idx = idx[:num]\n",
    "    data_shuffle = [data[ i] for i in idx]\n",
    "    labels_shuffle = [labels[ i] for i in idx]\n",
    "\n",
    "    return np.asarray(data_shuffle), np.asarray(labels_shuffle)"
   ]
  },
  {
   "cell_type": "code",
   "execution_count": 41,
   "metadata": {},
   "outputs": [],
   "source": [
    "Xtr, Ytr = next_batch(5, train_images, one_hot_en_labels)"
   ]
  },
  {
   "cell_type": "markdown",
   "metadata": {},
   "source": [
    "## tensor flow run"
   ]
  },
  {
   "cell_type": "code",
   "execution_count": 42,
   "metadata": {},
   "outputs": [],
   "source": [
    "saver = tf.train.Saver(max_to_keep=50)"
   ]
  },
  {
   "cell_type": "code",
   "execution_count": 43,
   "metadata": {},
   "outputs": [],
   "source": [
    "session = tf.Session()"
   ]
  },
  {
   "cell_type": "code",
   "execution_count": 44,
   "metadata": {},
   "outputs": [],
   "source": [
    "session.run(tf.global_variables_initializer())"
   ]
  },
  {
   "cell_type": "code",
   "execution_count": 45,
   "metadata": {},
   "outputs": [],
   "source": [
    "total_iterations = 0"
   ]
  },
  {
   "cell_type": "markdown",
   "metadata": {},
   "source": [
    "## Optimize function "
   ]
  },
  {
   "cell_type": "code",
   "execution_count": 46,
   "metadata": {},
   "outputs": [],
   "source": [
    "# Counter for total number of iterations performed so far.\n",
    "total_iterations = 0\n",
    "\n",
    "def optimize(num_iterations):\n",
    "    # Ensure we update the global variable rather than a local copy.\n",
    "    global total_iterations\n",
    "\n",
    "    for i in range(total_iterations,\n",
    "                   total_iterations + num_iterations):\n",
    "\n",
    "        # Get a batch of training examples.\n",
    "        # x_batch now holds a batch of images and\n",
    "        # y_true_batch are the true labels for those images.\n",
    "        x_batch, y_true_batch = next_batch(train_batch_size, train_images, one_hot_en_labels)\n",
    "\n",
    "        # Put the batch into a dict with the proper names\n",
    "        # for placeholder variables in the TensorFlow graph.\n",
    "        feed_dict_train = {x: x_batch,\n",
    "                           y_true_1: y_true_batch[:,0:11], \n",
    "                           y_true_2: y_true_batch[:,11:22], \n",
    "                           y_true_3: y_true_batch[:,22:33],\n",
    "                           y_true_4: y_true_batch[:,33:44],\n",
    "                           y_true_5: y_true_batch[:,44:55]}\n",
    "\n",
    "        # Run the optimizer using this batch of training data.\n",
    "        # TensorFlow assigns the variables in feed_dict_train\n",
    "        # to the placeholder variables and then runs the optimizer.\n",
    "        session.run(optimizer, feed_dict=feed_dict_train)\n",
    "        \n",
    "        \n",
    "        #if i % save_model_after_iter == 0:\n",
    "            #name = 'Model_saved/model_dig5_3_layer_lr5_' + str(i)\n",
    "            #saver.save(session, name)\n",
    "\n",
    "        # Print status every 100 iterations.\n",
    "        #if i % print_loss_aft_iter_in_optimize == 0:\n",
    "            # Calculate the accuracy on the training-set.\n",
    "            #acc = session.run(accuracy, feed_dict=feed_dict_train)\n",
    "    acc = session.run(loss, feed_dict=feed_dict_train)\n",
    "            \n",
    "\n",
    "            # Message for printing.\n",
    "    msg = \"Optimization Iteration: {0:>6}, Training Accuracy: {1:>6.1%}\"\n",
    "\n",
    "            # Print it.\n",
    "            #print(msg.format(i + 1, acc))\n",
    "    \n",
    "    \n",
    "\n",
    "    # Update the total number of iterations performed.\n",
    "    total_iterations += num_iterations\n",
    "    return acc\n"
   ]
  },
  {
   "cell_type": "code",
   "execution_count": 47,
   "metadata": {},
   "outputs": [],
   "source": [
    "def plot_example_errors(cls_pred, correct):\n",
    "    # This function is called from print_test_accuracy() below.\n",
    "\n",
    "    # cls_pred is an array of the predicted class-number for\n",
    "    # all images in the test-set.\n",
    "\n",
    "    # correct is a boolean array whether the predicted class\n",
    "    # is equal to the true class for each image in the test-set.\n",
    "\n",
    "    # Negate the boolean array.\n",
    "    incorrect = (correct == True)\n",
    "    print (\"incorrect\", incorrect)\n",
    "    \n",
    "    # Get the images from the test-set that have been\n",
    "    # incorrectly classified.\n",
    "    \n",
    "    images = [test_images[i] for i, x in enumerate(incorrect) if x]\n",
    "\n",
    "    \n",
    "    #images = test_images[incorrect]\n",
    "    \n",
    "    # Get the predicted classes for those images.\n",
    "    cls_pred = cls_pred[incorrect]\n",
    "\n",
    "    # Get the true classes for those images.\n",
    "    #cls_true = test_labels[incorrect]\n",
    "    cls_true = [test_labels[i] for i, x in enumerate(incorrect) if x]\n",
    "    \n",
    "    # Plot the first 9 images.\n",
    "    plot_images(images=images[25:50],\n",
    "                cls_true=cls_true[25:50],\n",
    "                cls_pred=cls_pred[25:50])"
   ]
  },
  {
   "cell_type": "code",
   "execution_count": 48,
   "metadata": {},
   "outputs": [],
   "source": [
    "def plot_confusion_matrix(cls_pred):\n",
    "    # This is called from print_test_accuracy() below.\n",
    "\n",
    "    # cls_pred is an array of the predicted class-number for\n",
    "    # all images in the test-set.\n",
    "\n",
    "    # Get the true classifications for the test-set.\n",
    "    cls_true = test_labels\n",
    "    \n",
    "    # Get the confusion matrix using sklearn.\n",
    "    cm = confusion_matrix(y_true=cls_true,\n",
    "                          y_pred=cls_pred)\n",
    "\n",
    "    # Print the confusion matrix as text.\n",
    "    print(cm)\n",
    "\n",
    "    # Plot the confusion matrix as an image.\n",
    "    plt.matshow(cm)\n",
    "\n",
    "    # Make various adjustments to the plot.\n",
    "    plt.colorbar()\n",
    "    tick_marks = np.arange(num_classes)\n",
    "    plt.xticks(tick_marks, range(num_classes))\n",
    "    plt.yticks(tick_marks, range(num_classes))\n",
    "    plt.xlabel('Predicted')\n",
    "    plt.ylabel('True')\n",
    "\n",
    "    # Ensure the plot is shown correctly with multiple plots\n",
    "    # in a single Notebook cell.\n",
    "    plt.show()"
   ]
  },
  {
   "cell_type": "markdown",
   "metadata": {},
   "source": [
    "## test accuracy"
   ]
  },
  {
   "cell_type": "code",
   "execution_count": 49,
   "metadata": {},
   "outputs": [],
   "source": [
    "# Split the test-set into smaller batches of this size.\n",
    "def print_test_accuracy(show_example_errors=False,\n",
    "                        show_confusion_matrix=False):\n",
    "\n",
    "    # Number of images in the test-set.\n",
    "    num_test = len(test_images)\n",
    "\n",
    "    # Allocate an array for the predicted classes which\n",
    "    # will be calculated in batches and filled into this array.\n",
    "    cls_pred = np.zeros(shape=num_test, dtype=np.int)\n",
    "\n",
    "    # Now calculate the predicted classes for the batches.\n",
    "    # We will just iterate through all the batches.\n",
    "    # There might be a more clever and Pythonic way of doing this.\n",
    "\n",
    "    # The starting index for the next batch is denoted i.\n",
    "    i = 0\n",
    "\n",
    "    while i < num_test:\n",
    "        # The ending index for the next batch is denoted j.\n",
    "        j = min(i + test_batch_size, num_test)\n",
    "\n",
    "        # Get the images from the test-set between index i and j.\n",
    "        images = test_images[i:j, :]\n",
    "\n",
    "        # Get the associated labels.\n",
    "        labels = one_hot_en_labels_test[i:j, :]\n",
    "        \n",
    "        # Define probablity for selecting if the number if two or one digit\n",
    "        prob_local =  prob_2_dig_sel*np.ones(shape=[j-i], dtype=np.float32)\n",
    "\n",
    "        # Create a feed-dict with these images and labels.\n",
    "        feed_dict = {x: images,\n",
    "                     y_true: labels, prob_2_dig_sel_tensor: prob_local}\n",
    "\n",
    "        # Calculate the predicted class using TensorFlow.\n",
    "        y_pred_cls = session.run(y_pred, feed_dict=feed_dict)\n",
    "        \n",
    "        # print(\"soft \", session.run(logits_soft,feed_dict =feed_dict))\n",
    "        \n",
    "        #print(\"condition_2 \", session.run(condition_2, feed_dict=feed_dict))\n",
    "        #print(\"condition_3 \", session.run(condition_3, feed_dict=feed_dict))\n",
    "        \n",
    "        # print(\"prob \", session.run(prob_2_dig_sel_tensor, feed_dict=feed_dict))\n",
    "        \n",
    "        \n",
    "        #print (\"temp\", y_pred_cls)\n",
    "        # y_pred_cls = class_generator_from_labels(temp, num_classes = 10, max_digit = 2) ####### make TF object later\n",
    "        \n",
    "        \n",
    "        cls_pred[i:j] = y_pred_cls\n",
    "                 \n",
    "        # Set the start-index for the next batch to the\n",
    "        # end-index of the current batch.\n",
    "        i = j\n",
    "\n",
    "    # Convenience variable for the true class-numbers of the test-set.\n",
    "    cls_true = test_labels\n",
    "\n",
    "    # Create a boolean array whether each image is correctly classified.\n",
    "    correct = (cls_true == cls_pred)\n",
    "    \n",
    "    #print (\"cls_pred \", cls_pred)\n",
    "    #print (\"cls_true \", cls_true)\n",
    "    \n",
    "\n",
    "    # Calculate the number of correctly classified images.\n",
    "    # When summing a boolean array, False means 0 and True means 1.\n",
    "    #print(correct)\n",
    "    correct_sum = correct.sum()\n",
    "\n",
    "    # Classification accuracy is the number of correctly classified\n",
    "    # images divided by the total number of images in the test-set.\n",
    "    acc = float(correct_sum) / num_test\n",
    "    \n",
    "    \n",
    "\n",
    "    # Print the accuracy.\n",
    "    msg = \"Accuracy on Test-Set: {0:.1%} ({1} / {2})\"\n",
    "    #print(msg.format(acc, correct_sum, num_test))\n",
    "    \n",
    "     # Plot some examples of mis-classifications, if desired.\n",
    "    if show_example_errors:\n",
    "        print(\"Example errors:\")\n",
    "        plot_example_errors(cls_pred=cls_pred, correct=correct)\n",
    "\n",
    "    # Plot the confusion matrix, if desired.\n",
    "    if show_confusion_matrix:\n",
    "        print(\"Confusion Matrix:\")\n",
    "        plot_confusion_matrix(cls_pred=cls_pred)\n",
    "    \n",
    "    return acc\n"
   ]
  },
  {
   "cell_type": "markdown",
   "metadata": {},
   "source": [
    "## test accuracy"
   ]
  },
  {
   "cell_type": "code",
   "execution_count": 50,
   "metadata": {},
   "outputs": [],
   "source": [
    "# Split the test-set into smaller batches of this size.\n",
    "\n",
    "\n",
    "def print_train_accuracy(show_example_errors=False,\n",
    "                        show_confusion_matrix=False):\n",
    "\n",
    "    # Number of images in the test-set.\n",
    "    num_test = len(train_images)\n",
    "\n",
    "    # Allocate an array for the predicted classes which\n",
    "    # will be calculated in batches and filled into this array.\n",
    "    cls_pred = np.zeros(shape=num_test, dtype=np.int)\n",
    "\n",
    "    # Now calculate the predicted classes for the batches.\n",
    "    # We will just iterate through all the batches.\n",
    "    # There might be a more clever and Pythonic way of doing this.\n",
    "\n",
    "    # The starting index for the next batch is denoted i.\n",
    "    i = 0\n",
    "\n",
    "    while i < num_test:\n",
    "        # The ending index for the next batch is denoted j.\n",
    "        j = min(i + train_batch_size, num_test)\n",
    "\n",
    "        # Get the images from the test-set between index i and j.\n",
    "        images = train_images[i:j, :]\n",
    "\n",
    "        # Get the associated labels.\n",
    "        labels = one_hot_en_labels[i:j, :]\n",
    "        \n",
    "        # Define probablity for selecting if the number if two or one digit\n",
    "        prob_local =  prob_2_dig_sel*np.ones(shape=[j-i], dtype=np.float32)\n",
    "\n",
    "        # Create a feed-dict with these images and labels.\n",
    "        feed_dict = {x: images,\n",
    "                     y_true: labels, prob_2_dig_sel_tensor: prob_local}\n",
    "\n",
    "        # Calculate the predicted class using TensorFlow.\n",
    "        y_pred_cls = session.run(y_pred, feed_dict=feed_dict)\n",
    "        \n",
    "        #print(\"soft \", session.run(logits_soft,feed_dict =feed_dict))\n",
    "        \n",
    "        #print(\"val \", session.run(val, feed_dict=feed_dict))\n",
    "        \n",
    "        #print(\"prob \", session.run(prob_2_dig_sel_tensor, feed_dict=feed_dict))\n",
    "        \n",
    "        \n",
    "        #print (\"temp\", y_pred_cls)\n",
    "        # y_pred_cls = class_generator_from_labels(temp, num_classes = 10, max_digit = 2) ####### make TF object later\n",
    "        \n",
    "        \n",
    "        cls_pred[i:j] = y_pred_cls\n",
    "                 \n",
    "        # Set the start-index for the next batch to the\n",
    "        # end-index of the current batch.\n",
    "        i = j\n",
    "\n",
    "    # Convenience variable for the true class-numbers of the test-set.\n",
    "    cls_true = train_labels\n",
    "\n",
    "    # Create a boolean array whether each image is correctly classified.\n",
    "    correct = (cls_true == cls_pred)\n",
    "    #incorrect = (cls_true == cls_pred)\n",
    "    #print (\"cls_pred \", cls_pred)\n",
    "    #print (\"cls_true \", cls_true)\n",
    "\n",
    "    # Calculate the number of correctly classified images.\n",
    "    # When summing a boolean array, False means 0 and True means 1.\n",
    "    #print(correct)\n",
    "    correct_sum = correct.sum()\n",
    "\n",
    "    # Classification accuracy is the number of correctly classified\n",
    "    # images divided by the total number of images in the test-set.\n",
    "    acc = float(correct_sum) / num_test\n",
    "\n",
    "    # Print the accuracy.\n",
    "    msg = \"Accuracy on Train-Set: {0:.1%} ({1} / {2})\"\n",
    "    \n",
    "    \n",
    "    # print(msg.format(acc, correct_sum, num_test))\n",
    "    \n",
    "     # Plot some examples of mis-classifications, if desired.\n",
    "    if show_example_errors:\n",
    "        print(\"Example errors:\")\n",
    "        plot_example_errors(cls_pred=cls_pred, correct=correct)\n",
    "\n",
    "    # Plot the confusion matrix, if desired.\n",
    "    if show_confusion_matrix:\n",
    "        print(\"Confusion Matrix:\")\n",
    "        plot_confusion_matrix(cls_pred=cls_pred)\n",
    "    \n",
    "    return acc\n"
   ]
  },
  {
   "cell_type": "markdown",
   "metadata": {},
   "source": [
    "## plotting few images"
   ]
  },
  {
   "cell_type": "code",
   "execution_count": 51,
   "metadata": {},
   "outputs": [],
   "source": [
    "\n",
    "%matplotlib inline\n",
    "import matplotlib.pyplot as plt\n",
    "def plot_images(images, cls_true, cls_pred=None):\n",
    "    assert len(images) == len(cls_true) == 25\n",
    "    \n",
    "    # Create figure with 3x3 sub-plots.\n",
    "    fig, axes = plt.subplots(5, 5,figsize =(10,10))\n",
    "    fig.subplots_adjust(hspace=0.8, wspace=0.8)\n",
    "\n",
    "    for i, ax in enumerate(axes.flat):\n",
    "        # Plot image.\n",
    "        ax.imshow(images[i].reshape(img_shape), cmap='binary')\n",
    "\n",
    "        # Show true and predicted classes.\n",
    "        if cls_pred is None:\n",
    "            xlabel = \"True: {0}\".format(cls_true[i])\n",
    "        else:\n",
    "            xlabel = \"True: {0}, Pred: {1}\".format(cls_true[i], cls_pred[i])\n",
    "\n",
    "        # Show the classes as the label on the x-axis.\n",
    "        ax.set_xlabel(xlabel)\n",
    "        \n",
    "        # Remove ticks from the plot.\n",
    "        ax.set_xticks([])\n",
    "        ax.set_yticks([])\n",
    "    \n",
    "    # Ensure the plot is shown correctly with multiple plots\n",
    "    # in a single Notebook cell.\n",
    "    plt.show()\n",
    "\n"
   ]
  },
  {
   "cell_type": "code",
   "execution_count": 52,
   "metadata": {},
   "outputs": [
    {
     "data": {
      "text/plain": [
       "array([[ 0.89025647,  0.89025647,  0.89417804, ...,  0.78711922,\n",
       "         0.58681373,  0.38876314],\n",
       "       [ 0.73348902,  0.72956745,  0.7245298 , ...,  0.70771961,\n",
       "         0.70660353,  0.70745961],\n",
       "       [ 0.33438118,  0.32261647,  0.3186949 , ...,  0.54065569,\n",
       "         0.48126667,  0.40789569],\n",
       "       ..., \n",
       "       [ 0.56856706,  0.57362745,  0.57167804, ...,  0.52886118,\n",
       "         0.52128588,  0.51764706],\n",
       "       [ 0.77734157,  0.78323529,  0.79107843, ...,  0.7633298 ,\n",
       "         0.7633298 ,  0.75940824],\n",
       "       [ 0.38086314,  0.38673412,  0.40634196, ...,  0.38974275,\n",
       "         0.40007098,  0.39861176]])"
      ]
     },
     "execution_count": 52,
     "metadata": {},
     "output_type": "execute_result"
    }
   ],
   "source": [
    "images = test_images[0:9]\n",
    "images"
   ]
  },
  {
   "cell_type": "code",
   "execution_count": 53,
   "metadata": {},
   "outputs": [
    {
     "data": {
      "image/png": "[encoded data removed]",
      "text/plain": [
       "<matplotlib.figure.Figure at 0x7f1a4c1eb8d0>"
      ]
     },
     "metadata": {},
     "output_type": "display_data"
    }
   ],
   "source": [
    "# Get the first images from the test-set.\n",
    "images = train_images[0:25]\n",
    "\n",
    "# Get the true classes for those images.\n",
    "cls_true = train_labels[0:25]\n",
    "\n",
    "# Plot the images and labels using our helper-function above.\n",
    "plot_images(images=images, cls_true=cls_true)"
   ]
  },
  {
   "cell_type": "code",
   "execution_count": 54,
   "metadata": {},
   "outputs": [],
   "source": [
    "#print (optimize(num_iterations=100))\n",
    "#print (a)"
   ]
  },
  {
   "cell_type": "code",
   "execution_count": 55,
   "metadata": {
    "scrolled": true
   },
   "outputs": [],
   "source": [
    "#saver.restore(session, \"Model_saved/model_dig5_3_layer_lr5_100000\")\n",
    "#print_train_accuracy()"
   ]
  },
  {
   "cell_type": "code",
   "execution_count": 56,
   "metadata": {},
   "outputs": [],
   "source": [
    "#print_test_accuracy()"
   ]
  },
  {
   "cell_type": "markdown",
   "metadata": {},
   "source": [
    "## Results"
   ]
  },
  {
   "cell_type": "code",
   "execution_count": 57,
   "metadata": {},
   "outputs": [
    {
     "name": "stdout",
     "output_type": "stream",
     "text": [
      "10000\n",
      "10000\n",
      "10000\n",
      "10000\n",
      "10000\n",
      "10000\n",
      "10000\n",
      "10000\n",
      "10000\n",
      "10000\n",
      "10000\n",
      "10000\n",
      "10000\n",
      "10000\n"
     ]
    }
   ],
   "source": [
    "error =[]\n",
    "train_acc = []\n",
    "test_acc =[]\n",
    "iterations = 10000*np.ones(14,dtype=int)\n",
    "\n",
    "for k in iterations:\n",
    "    print (k)\n",
    "    error.append(optimize(num_iterations=k))\n",
    "    train_acc.append(print_train_accuracy())\n",
    "    test_acc.append(print_test_accuracy())    "
   ]
  },
  {
   "cell_type": "code",
   "execution_count": 74,
   "metadata": {},
   "outputs": [
    {
     "data": {
      "image/png": "[encoded data removed]",
      "text/plain": [
       "<matplotlib.figure.Figure at 0x7f19a206dda0>"
      ]
     },
     "metadata": {},
     "output_type": "display_data"
    }
   ],
   "source": [
    "%matplotlib inline\n",
    "import seaborn as sns\n",
    "sns.set()\n",
    "number_iterations = np.cumsum(iterations,dtype = int)\n",
    "fig = plt.figure()\n",
    "plt.plot( number_iterations, train_acc, marker='o', markerfacecolor='blue', markersize=9, color='skyblue', linewidth=4,label =\"testing accuracy\")\n",
    "#plt.plot( number_iterations, train_acc, marker='', color='red', linewidth=4,label=\"training accuracy\")\n",
    "plt.plot( number_iterations,test_acc, marker='o', markerfacecolor='red', markersize=9, color='lightgreen', linewidth=4,label=\"training accuracy\")\n",
    "plt.title(\"Accuracy vs iterations\")\n",
    "plt.xlabel(\"Number Of iterations\")\n",
    "plt.ylabel(\"Accuracy\")\n",
    "plt.legend()\n",
    "fig.savefig('accuracy.jpg')\n"
   ]
  },
  {
   "cell_type": "code",
   "execution_count": 73,
   "metadata": {},
   "outputs": [
    {
     "data": {
      "image/png": "[encoded data removed]",
      "text/plain": [
       "<matplotlib.figure.Figure at 0x7f19a1de3cc0>"
      ]
     },
     "metadata": {},
     "output_type": "display_data"
    }
   ],
   "source": [
    "fig = plt.figure()\n",
    "plt.plot( number_iterations, error,marker='o', markerfacecolor='blue', markersize=9, color='skyblue', linewidth=4)\n",
    "plt.title(\"Error vs iterations for learning_rate of 0.00001\")\n",
    "plt.xlabel(\"Number Of iterations\")\n",
    "plt.ylabel(\"Error\")\n",
    "fig.savefig('error.jpg')"
   ]
  }
 ],
 "metadata": {
  "kernelspec": {
   "display_name": "Python 3",
   "language": "python",
   "name": "python3"
  },
  "language_info": {
   "codemirror_mode": {
    "name": "ipython",
    "version": 3
   },
   "file_extension": ".py",
   "mimetype": "text/x-python",
   "name": "python",
   "nbconvert_exporter": "python",
   "pygments_lexer": "ipython3",
   "version": "3.5.2"
  }
 },
 "nbformat": 4,
 "nbformat_minor": 2
}
